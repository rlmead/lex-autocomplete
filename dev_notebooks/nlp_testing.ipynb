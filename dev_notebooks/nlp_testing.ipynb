{
 "cells": [
  {
   "cell_type": "code",
   "execution_count": 1,
   "metadata": {},
   "outputs": [],
   "source": [
    "import pandas as pd\n",
    "from nltk.lm.preprocessing import pad_both_ends\n",
    "from nltk.lm.preprocessing import flatten\n",
    "from nltk import ngrams\n",
    "from nltk import word_tokenize\n",
    "from nltk.lm import MLE\n",
    "from nltk.lm.preprocessing import padded_everygram_pipeline\n",
    "import re\n",
    "from collections import Counter"
   ]
  },
  {
   "cell_type": "markdown",
   "metadata": {},
   "source": [
    "- `nltk.download('punkt')`\n",
    "\n",
    "This downloads a model to your local system. required just once"
   ]
  },
  {
   "cell_type": "code",
   "execution_count": 2,
   "metadata": {},
   "outputs": [],
   "source": [
    "# one time use\n",
    "#nltk.download('punkt')"
   ]
  },
  {
   "cell_type": "code",
   "execution_count": 3,
   "metadata": {},
   "outputs": [],
   "source": [
    "data = pd.read_csv(\"../data/Codes Summed-Main View.csv\")\n",
    "comment_list = [c for c in data[\"Qualitative Response\"]]"
   ]
  },
  {
   "cell_type": "markdown",
   "metadata": {},
   "source": [
    "I'm tokenizing and padding over a whole comment. That is, the start and end symbols are padded out on the whole comment. It might result in different results if they were paded out by sentence.\n",
    "\n",
    "- `n` is setting the number of n-grams"
   ]
  },
  {
   "cell_type": "code",
   "execution_count": 4,
   "metadata": {},
   "outputs": [],
   "source": [
    "n = 3\n",
    "comment_tokens = [word_tokenize(c) for c in comment_list]\n",
    "train, vocab = padded_everygram_pipeline(n, comment_tokens)\n",
    "MLE_model = MLE(n)\n",
    "MLE_model.fit(train, vocab)"
   ]
  },
  {
   "cell_type": "markdown",
   "metadata": {},
   "source": [
    "`MLE_model.generate()` is generating a list of tokens. The `text_seed` is what it should begin with at the start state.. I have it set to\n",
    "\n",
    "```python\n",
    "[\"<s>\"] * (n - 1)\n",
    "```\n",
    "\n",
    "This will generate a list of `\"<s>\"` that is one shorter than the number of ngrams. This is because for a given ngram model, it pads the start and end with `\"<s>\"` n-1 times. E.g. for the following sentence:\n",
    "\n",
    "```python\n",
    "[\"I\", \"am\", \"a\", \"sentence\"]\n",
    "```\n",
    "\n",
    "For a 3-gram model, it will pad out to:\n",
    "\n",
    "```python\n",
    "[\"<s>\", \"<s>\", \"I\", \"am\", \"a\", \"sentence\", \"</s>\",\"</s>\"]\n",
    "```\n",
    "\n",
    "So the first trigram is `( \"<s>\", \"<s>\", \"I\" )`, the second trigram is `(\"<s>\", \"I\", \"am\")` etc. By giving `text_seed` the list `[\"<s>\", \"<s>\"]` you're basically telling it to sample the most common word that starts a comment.\n",
    "\n",
    "If it then samples, `\"The\"`, it will re-run the sampling for words that most commonly follow `(\"<s>\", \"The\")`, and so on."
   ]
  },
  {
   "cell_type": "code",
   "execution_count": 5,
   "metadata": {},
   "outputs": [
    {
     "name": "stdout",
     "output_type": "stream",
     "text": [
      "Urban development w/i the urban planning disaster that is easy to ride the buses had 20 min frequencies and transfers downtown could be what brings them back to the mall/grocery store , pet store , pet store , more sidewalks along streets to cars for a city the size of\n"
     ]
    }
   ],
   "source": [
    "output = \" \".join(MLE_model.generate(50, text_seed=[\"<s>\"]*(n-1)))\n",
    "clean = re.sub(r\"(</s> ?)+\", \"\", output)\n",
    "print(clean)"
   ]
  },
  {
   "cell_type": "markdown",
   "metadata": {},
   "source": [
    "## Uniqueness sanity check\n",
    "\n",
    "I was worried that with a large enough n, it would just re-generate exact tokens from the training set. Double checking that "
   ]
  },
  {
   "cell_type": "code",
   "execution_count": 6,
   "metadata": {},
   "outputs": [
    {
     "name": "stdout",
     "output_type": "stream",
     "text": [
      "There are 0 comments that start with this ngram\n",
      "generated comment:\n",
      "\t-better mass transit . It could be a scary place for young artists/musicians in residence . It would also be equitable . Trees , bike lanes downtown\n",
      "\n",
      "original comments\n"
     ]
    }
   ],
   "source": [
    "sampled = MLE_model.generate(100, text_seed=[\"<s>\"]*(n-1))\n",
    "sampled = [token for token in sampled if token != \"</s>\"]\n",
    "# This grabs all of the training tokens with a matching initial trigram\n",
    "orig = [c for c in comment_tokens if all([x==y for x,y in zip(c[0:n],sampled[0:n])])]\n",
    "print(f\"There are {len(orig)} comments that start with this ngram\")\n",
    "print(\"generated comment:\")\n",
    "print(f'\\t-{\" \".join(sampled)}')\n",
    "print(\"\\noriginal comments\")\n",
    "for orig_c in orig:\n",
    "    print(f'\\t-{\" \".join(orig_c)}')"
   ]
  },
  {
   "cell_type": "markdown",
   "metadata": {},
   "source": [
    "## Pandas Implementation"
   ]
  },
  {
   "cell_type": "code",
   "execution_count": 7,
   "metadata": {},
   "outputs": [],
   "source": [
    "comment_pad = [list(pad_both_ends(c, n = n)) for c in comment_tokens]\n",
    "comment_ngram = [list(ngrams(c, n = n)) for c in comment_pad]\n",
    "flat_gram = list(flatten(comment_ngram))\n",
    "count_gram = Counter(flat_gram)"
   ]
  },
  {
   "cell_type": "code",
   "execution_count": 8,
   "metadata": {},
   "outputs": [],
   "source": [
    "trigram = pd.DataFrame({\"w1\" : [w[0] for w in count_gram],\n",
    "                        \"w2\" : [w[1] for w in count_gram],\n",
    "                        \"w3\" : [w[2] for w in count_gram],\n",
    "                        \"count\" : [count_gram[w] for w in count_gram]}).\\\n",
    "    assign(p3 = lambda x: x[\"count\"]/sum(x[\"count\"]))"
   ]
  },
  {
   "cell_type": "code",
   "execution_count": 9,
   "metadata": {},
   "outputs": [],
   "source": [
    "bigram = trigram.\\\n",
    "    groupby([\"w1\", \"w2\"]).\\\n",
    "    sum(numeric_only=True).\\\n",
    "    reset_index().\\\n",
    "    drop(axis=1, labels = \"p3\").\\\n",
    "    assign(p2 = lambda x: x[\"count\"]/sum(x[\"count\"])).\\\n",
    "    drop(labels = \"count\", axis = 1)"
   ]
  },
  {
   "cell_type": "code",
   "execution_count": 10,
   "metadata": {},
   "outputs": [],
   "source": [
    "cond_df = trigram.merge(bigram, on = [\"w1\", \"w2\"]).\\\n",
    "    assign(cond_prob = lambda x: x.p3/x.p2)"
   ]
  },
  {
   "cell_type": "code",
   "execution_count": 11,
   "metadata": {},
   "outputs": [
    {
     "data": {
      "text/html": [
       "<div>\n",
       "<style scoped>\n",
       "    .dataframe tbody tr th:only-of-type {\n",
       "        vertical-align: middle;\n",
       "    }\n",
       "\n",
       "    .dataframe tbody tr th {\n",
       "        vertical-align: top;\n",
       "    }\n",
       "\n",
       "    .dataframe thead th {\n",
       "        text-align: right;\n",
       "    }\n",
       "</style>\n",
       "<table border=\"1\" class=\"dataframe\">\n",
       "  <thead>\n",
       "    <tr style=\"text-align: right;\">\n",
       "      <th></th>\n",
       "      <th>w1</th>\n",
       "      <th>w2</th>\n",
       "      <th>w3</th>\n",
       "      <th>count</th>\n",
       "      <th>p3</th>\n",
       "      <th>p2</th>\n",
       "      <th>cond_prob</th>\n",
       "    </tr>\n",
       "  </thead>\n",
       "  <tbody>\n",
       "    <tr>\n",
       "      <th>40</th>\n",
       "      <td>&lt;s&gt;</td>\n",
       "      <td>&lt;s&gt;</td>\n",
       "      <td>Free</td>\n",
       "      <td>10</td>\n",
       "      <td>0.000193</td>\n",
       "      <td>0.032245</td>\n",
       "      <td>0.005981</td>\n",
       "    </tr>\n",
       "  </tbody>\n",
       "</table>\n",
       "</div>"
      ],
      "text/plain": [
       "     w1   w2    w3  count        p3        p2  cond_prob\n",
       "40  <s>  <s>  Free     10  0.000193  0.032245   0.005981"
      ]
     },
     "execution_count": 11,
     "metadata": {},
     "output_type": "execute_result"
    }
   ],
   "source": [
    "cond_df.\\\n",
    "    loc[(cond_df[\"w1\"] == \"<s>\") & (cond_df[\"w2\"] == \"<s>\")].\\\n",
    "    sample(n = 1, weights=\"cond_prob\")"
   ]
  },
  {
   "cell_type": "code",
   "execution_count": 12,
   "metadata": {},
   "outputs": [],
   "source": [
    "def sample_one_word(df, context = [\"<s>\", \"<s>\"]):\n",
    "    out_w = df.\\\n",
    "        loc[(df[\"w1\"] == context[0]) & (df[\"w2\"] == context[1])].\\\n",
    "        sample(n = 1, weights = \"cond_prob\")\\\n",
    "        [\"w3\"].\\\n",
    "        iloc[0]\n",
    "    return(out_w)"
   ]
  },
  {
   "cell_type": "code",
   "execution_count": 13,
   "metadata": {},
   "outputs": [
    {
     "data": {
      "text/plain": [
       "'Expand'"
      ]
     },
     "execution_count": 13,
     "metadata": {},
     "output_type": "execute_result"
    }
   ],
   "source": [
    "sample_one_word(cond_df)"
   ]
  },
  {
   "cell_type": "code",
   "execution_count": 14,
   "metadata": {},
   "outputs": [],
   "source": [
    "def generate_sequence(df, n = 100, context = [\"<s>\", \"<s>\"]):\n",
    "    for idx in range(n):\n",
    "        hist = context[-2::]\n",
    "        new_w = sample_one_word(df, context = hist)\n",
    "        if new_w == \"</s>\":\n",
    "            break\n",
    "        else:\n",
    "            context.append(new_w)\n",
    "    return(context)\n"
   ]
  },
  {
   "cell_type": "code",
   "execution_count": 16,
   "metadata": {},
   "outputs": [
    {
     "data": {
      "text/plain": [
       "\"<s> <s> Slowing down the overall number of restaurants , and easy to navigate the streets safely alongside cars . Encourage schools to implement these recycling programs , internships in high traffic areas . Fast , affordable lifestyle . Affordable transportation will increase people 's activity levels .\""
      ]
     },
     "execution_count": 16,
     "metadata": {},
     "output_type": "execute_result"
    }
   ],
   "source": [
    "\" \".join(generate_sequence(cond_df, context = [\"<s>\", \"<s>\"]))"
   ]
  },
  {
   "cell_type": "code",
   "execution_count": null,
   "metadata": {},
   "outputs": [],
   "source": []
  }
 ],
 "metadata": {
  "kernelspec": {
   "display_name": "Python 3.9.14 ('venv': venv)",
   "language": "python",
   "name": "python3"
  },
  "language_info": {
   "codemirror_mode": {
    "name": "ipython",
    "version": 3
   },
   "file_extension": ".py",
   "mimetype": "text/x-python",
   "name": "python",
   "nbconvert_exporter": "python",
   "pygments_lexer": "ipython3",
   "version": "3.9.14"
  },
  "orig_nbformat": 4,
  "vscode": {
   "interpreter": {
    "hash": "8eb02a2ec1af5fc131b2e9df55f07ff632abd21c8e64feb093981a3c5868fe6e"
   }
  }
 },
 "nbformat": 4,
 "nbformat_minor": 2
}
