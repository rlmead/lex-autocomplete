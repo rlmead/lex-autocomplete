{
 "cells": [
  {
   "cell_type": "code",
   "execution_count": 80,
   "metadata": {},
   "outputs": [],
   "source": [
    "import pandas as pd\n",
    "from nltk.lm.preprocessing import pad_both_ends\n",
    "from nltk.lm.preprocessing import flatten\n",
    "from nltk import ngrams\n",
    "from nltk import word_tokenize\n",
    "from nltk.lm import MLE\n",
    "from nltk.lm.preprocessing import padded_everygram_pipeline\n",
    "import re"
   ]
  },
  {
   "cell_type": "markdown",
   "metadata": {},
   "source": [
    "- `nltk.download('punkt')`\n",
    "\n",
    "This downloads a model to your local system. required just once"
   ]
  },
  {
   "cell_type": "code",
   "execution_count": 4,
   "metadata": {},
   "outputs": [
    {
     "name": "stderr",
     "output_type": "stream",
     "text": [
      "[nltk_data] Downloading package punkt to\n",
      "[nltk_data]     /Users/joseffruehwald/nltk_data...\n",
      "[nltk_data]   Package punkt is already up-to-date!\n"
     ]
    },
    {
     "data": {
      "text/plain": [
       "True"
      ]
     },
     "execution_count": 4,
     "metadata": {},
     "output_type": "execute_result"
    }
   ],
   "source": [
    "# one time use\n",
    "#nltk.download('punkt')"
   ]
  },
  {
   "cell_type": "code",
   "execution_count": 49,
   "metadata": {},
   "outputs": [],
   "source": [
    "data = pd.read_csv(\"../data/Codes Summed-Main View.csv\")\n",
    "comment_list = [c for c in data[\"Qualitative Response\"]]"
   ]
  },
  {
   "cell_type": "markdown",
   "metadata": {},
   "source": [
    "I'm tokenizing and padding over a whole comment. That is, the start and end symbols are padded out on the whole comment. It might result in different results if they were paded out by sentence.\n",
    "\n",
    "- `n` is setting the number of n-grams"
   ]
  },
  {
   "cell_type": "code",
   "execution_count": 140,
   "metadata": {},
   "outputs": [],
   "source": [
    "n = 3\n",
    "comment_tokens = [word_tokenize(c) for c in comment_list]\n",
    "train, vocab = padded_everygram_pipeline(n, comment_tokens)\n",
    "MLE_model = MLE(n)\n",
    "MLE_model.fit(train, vocab)"
   ]
  },
  {
   "cell_type": "markdown",
   "metadata": {},
   "source": [
    "`MLE_model.generate()` is generating a list of tokens. The `text_seed` is what it should begin with at the start state.. I have it set to\n",
    "\n",
    "```python\n",
    "[\"<s>\"] * (n - 1)\n",
    "```\n",
    "\n",
    "This will generate a list of `\"<s>\"` that is one shorter than the number of ngrams. This is because for a given ngram model, it pads the start and end with `\"<s>\"` n-1 times. E.g. for the following sentence:\n",
    "\n",
    "```python\n",
    "[\"I\", \"am\", \"a\", \"sentence\"]\n",
    "```\n",
    "\n",
    "For a 3-gram model, it will pad out to:\n",
    "\n",
    "```python\n",
    "[\"<s>\", \"<s>\", \"I\", \"am\", \"a\", \"sentence\", \"</s>\",\"</s>\"]\n",
    "```\n",
    "\n",
    "So the first trigram is `( \"<s>\", \"<s>\", \"I\" )`, the second trigram is `(\"<s>\", \"I\", \"am\")` etc. By giving `text_seed` the list `[\"<s>\", \"<s>\"]` you're basically telling it to sample the most common word that starts a comment.\n",
    "\n",
    "If it then samples, `\"The\"`, it will re-run the sampling for words that most commonly follow `(\"<s>\", \"The\")`, and so on."
   ]
  },
  {
   "cell_type": "code",
   "execution_count": 141,
   "metadata": {},
   "outputs": [
    {
     "name": "stdout",
     "output_type": "stream",
     "text": [
      "More affordable housing units close to what leadership for the entire county . People can not afford gas . \n"
     ]
    }
   ],
   "source": [
    "output = \" \".join(MLE_model.generate(50, text_seed=[\"<s>\"]*(n-1)))\n",
    "clean = re.sub(r\"(</s> ?)+\", \"\", output)\n",
    "print(clean)"
   ]
  },
  {
   "cell_type": "markdown",
   "metadata": {},
   "source": [
    "## Uniqueness sanity check\n",
    "\n",
    "I was worried that with a large enough n, it would just re-generate exact tokens from the training set. Double checking that "
   ]
  },
  {
   "cell_type": "code",
   "execution_count": 267,
   "metadata": {},
   "outputs": [
    {
     "name": "stdout",
     "output_type": "stream",
     "text": [
      "There are 1 comments that start with this ngram\n",
      "generated comment:\n",
      "\t-increase park sizes and street widths . Promote individual ownership rather than sprawl Focus on green spaces and access to community transportation issues and ultimately reduce traffic , making it a better mass transit initiative to improve is to relocate the railroad out of neighborhoods ! Keep improving the accessibility . Housing is too dangerous The lights — there are also unavailable or unsafe in the rain waiting for the environment .\n",
      "\n",
      "original comments\n",
      "\t-increase park sizes and green space , better improve the recycling capabilities of city waste management , provide alternate traffic options [ bus routes , bike and walking routes ] , host water way cleanings if already done better announcement\n"
     ]
    }
   ],
   "source": [
    "sampled = MLE_model.generate(100, text_seed=[\"<s>\"]*(n-1))\n",
    "sampled = [token for token in sampled if token != \"</s>\"]\n",
    "# This grabs all of the training tokens with a matching initial trigram\n",
    "orig = [c for c in comment_tokens if all([x==y for x,y in zip(c[0:n],sampled[0:n])])]\n",
    "print(f\"There are {len(orig)} comments that start with this ngram\")\n",
    "print(\"generated comment:\")\n",
    "print(f'\\t-{\" \".join(sampled)}')\n",
    "print(\"\\noriginal comments\")\n",
    "for orig_c in orig:\n",
    "    print(f'\\t-{\" \".join(orig_c)}')"
   ]
  }
 ],
 "metadata": {
  "kernelspec": {
   "display_name": "Python 3.9.12 ('venv': venv)",
   "language": "python",
   "name": "python3"
  },
  "language_info": {
   "codemirror_mode": {
    "name": "ipython",
    "version": 3
   },
   "file_extension": ".py",
   "mimetype": "text/x-python",
   "name": "python",
   "nbconvert_exporter": "python",
   "pygments_lexer": "ipython3",
   "version": "3.9.12"
  },
  "orig_nbformat": 4,
  "vscode": {
   "interpreter": {
    "hash": "397b034835d9fc544ec1ce46c47838d1db986351df127bf3147fecf1243f40ff"
   }
  }
 },
 "nbformat": 4,
 "nbformat_minor": 2
}
